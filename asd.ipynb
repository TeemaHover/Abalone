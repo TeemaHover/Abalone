{
 "cells": [
  {
   "cell_type": "code",
   "execution_count": null,
   "metadata": {},
   "outputs": [],
   "source": []
  },
  {
   "cell_type": "code",
   "execution_count": 38,
   "metadata": {},
   "outputs": [
    {
     "name": "stdout",
     "output_type": "stream",
     "text": [
      "   Length  Diameter  Height  Whole weight  Shucked weight  Viscera weight  \\\n",
      "0   0.455     0.365   0.095        0.5140          0.2245          0.1010   \n",
      "1   0.350     0.265   0.090        0.2255          0.0995          0.0485   \n",
      "2   0.530     0.420   0.135        0.6770          0.2565          0.1415   \n",
      "3   0.440     0.365   0.125        0.5160          0.2155          0.1140   \n",
      "4   0.330     0.255   0.080        0.2050          0.0895          0.0395   \n",
      "\n",
      "   Shell weight  Rings  Sex_F  Sex_I  Sex_M  \n",
      "0         0.150     15    0.0    0.0    1.0  \n",
      "1         0.070      7    0.0    0.0    1.0  \n",
      "2         0.210      9    1.0    0.0    0.0  \n",
      "3         0.155     10    0.0    0.0    1.0  \n",
      "4         0.055      7    0.0    1.0    0.0  \n"
     ]
    },
    {
     "ename": "ValueError",
     "evalue": "y has only 1 sample in class 1, covariance is ill defined.",
     "output_type": "error",
     "traceback": [
      "\u001b[1;31m---------------------------------------------------------------------------\u001b[0m",
      "\u001b[1;31mValueError\u001b[0m                                Traceback (most recent call last)",
      "\u001b[1;32m~\\AppData\\Local\\Temp/ipykernel_22972/1081138987.py\u001b[0m in \u001b[0;36m<module>\u001b[1;34m\u001b[0m\n\u001b[0;32m     48\u001b[0m \u001b[1;31m# Initialize and train the QDA model\u001b[0m\u001b[1;33m\u001b[0m\u001b[1;33m\u001b[0m\u001b[0m\n\u001b[0;32m     49\u001b[0m \u001b[0mqda_model\u001b[0m \u001b[1;33m=\u001b[0m \u001b[0mQuadraticDiscriminantAnalysis\u001b[0m\u001b[1;33m(\u001b[0m\u001b[1;33m)\u001b[0m\u001b[1;33m\u001b[0m\u001b[1;33m\u001b[0m\u001b[0m\n\u001b[1;32m---> 50\u001b[1;33m \u001b[0mqda_model\u001b[0m\u001b[1;33m.\u001b[0m\u001b[0mfit\u001b[0m\u001b[1;33m(\u001b[0m\u001b[0mX_train_scaled\u001b[0m\u001b[1;33m,\u001b[0m \u001b[0my_train\u001b[0m\u001b[1;33m)\u001b[0m\u001b[1;33m\u001b[0m\u001b[1;33m\u001b[0m\u001b[0m\n\u001b[0m\u001b[0;32m     51\u001b[0m \u001b[1;33m\u001b[0m\u001b[0m\n\u001b[0;32m     52\u001b[0m \u001b[1;31m# Make predictions\u001b[0m\u001b[1;33m\u001b[0m\u001b[1;33m\u001b[0m\u001b[0m\n",
      "\u001b[1;32mc:\\Users\\hp\\anaconda3\\lib\\site-packages\\sklearn\\discriminant_analysis.py\u001b[0m in \u001b[0;36mfit\u001b[1;34m(self, X, y)\u001b[0m\n\u001b[0;32m    799\u001b[0m             \u001b[0mmeans\u001b[0m\u001b[1;33m.\u001b[0m\u001b[0mappend\u001b[0m\u001b[1;33m(\u001b[0m\u001b[0mmeang\u001b[0m\u001b[1;33m)\u001b[0m\u001b[1;33m\u001b[0m\u001b[1;33m\u001b[0m\u001b[0m\n\u001b[0;32m    800\u001b[0m             \u001b[1;32mif\u001b[0m \u001b[0mlen\u001b[0m\u001b[1;33m(\u001b[0m\u001b[0mXg\u001b[0m\u001b[1;33m)\u001b[0m \u001b[1;33m==\u001b[0m \u001b[1;36m1\u001b[0m\u001b[1;33m:\u001b[0m\u001b[1;33m\u001b[0m\u001b[1;33m\u001b[0m\u001b[0m\n\u001b[1;32m--> 801\u001b[1;33m                 raise ValueError('y has only 1 sample in class %s, covariance '\n\u001b[0m\u001b[0;32m    802\u001b[0m                                  'is ill defined.' % str(self.classes_[ind]))\n\u001b[0;32m    803\u001b[0m             \u001b[0mXgc\u001b[0m \u001b[1;33m=\u001b[0m \u001b[0mXg\u001b[0m \u001b[1;33m-\u001b[0m \u001b[0mmeang\u001b[0m\u001b[1;33m\u001b[0m\u001b[1;33m\u001b[0m\u001b[0m\n",
      "\u001b[1;31mValueError\u001b[0m: y has only 1 sample in class 1, covariance is ill defined."
     ]
    }
   ],
   "source": [
    "import pandas as pd\n",
    "import numpy as np\n",
    "from sklearn.model_selection import train_test_split\n",
    "from sklearn.preprocessing import StandardScaler\n",
    "from sklearn.discriminant_analysis import QuadraticDiscriminantAnalysis\n",
    "from sklearn.metrics import classification_report\n",
    "\n",
    "# Load the Abalone dataset (you can replace this with your own dataset)\n",
    "abalone_df = pd.read_csv('./data/abalone.csv')\n",
    "\n",
    "\n",
    "import pandas as pd\n",
    "from sklearn.preprocessing import OneHotEncoder\n",
    "\n",
    "# Extract the 'Sex' column\n",
    "sex_column = abalone_df[['Sex']]\n",
    "\n",
    "# Initialize the OneHotEncoder\n",
    "encoder = OneHotEncoder()\n",
    "\n",
    "# Fit and transform the 'Sex' column\n",
    "sex_encoded = encoder.fit_transform(sex_column).toarray()\n",
    "\n",
    "# Create a DataFrame with the encoded values\n",
    "sex_encoded_df = pd.DataFrame(sex_encoded, columns=encoder.get_feature_names(['Sex']))\n",
    "\n",
    "# Concatenate the encoded DataFrame with the original dataset\n",
    "abalone_encoded_df = pd.concat([abalone_df, sex_encoded_df], axis=1)\n",
    "\n",
    "# Drop the original 'Sex' column\n",
    "abalone_encoded_df.drop(columns=['Sex'], inplace=True)\n",
    "\n",
    "# Now 'abalone_encoded_df' contains the one-hot encoded version of the 'Sex' column\n",
    "print(abalone_encoded_df.head())\n",
    "\n",
    "# Define features (X) and target variable (y)\n",
    "X = abalone_encoded_df.drop(columns=['Rings'])\n",
    "y = abalone_encoded_df['Rings']\n",
    "\n",
    "# Split data into training and testing subsets\n",
    "X_train, X_test, y_train, y_test = train_test_split(X, y, test_size=0.2, random_state=42)\n",
    "\n",
    "# Scale features\n",
    "scaler = StandardScaler()\n",
    "X_train_scaled = scaler.fit_transform(X_train)\n",
    "X_test_scaled = scaler.transform(X_test)\n",
    "\n",
    "# Initialize and train the QDA model\n",
    "qda_model = QuadraticDiscriminantAnalysis()\n",
    "qda_model.fit(X_train_scaled, y_train)\n",
    "\n",
    "# Make predictions\n",
    "y_pred_qda = qda_model.predict(X_test_scaled)\n",
    "\n",
    "# Evaluate the model\n",
    "print(\"QDA Classification Report:\\n\", classification_report(y_test, y_pred_qda, zero_division=1))\n"
   ]
  },
  {
   "cell_type": "code",
   "execution_count": 36,
   "metadata": {},
   "outputs": [
    {
     "name": "stdout",
     "output_type": "stream",
     "text": [
      "   Length  Diameter  Height  Whole weight  Shucked weight  Viscera weight  \\\n",
      "0   0.455     0.365   0.095        0.5140          0.2245          0.1010   \n",
      "1   0.350     0.265   0.090        0.2255          0.0995          0.0485   \n",
      "2   0.530     0.420   0.135        0.6770          0.2565          0.1415   \n",
      "3   0.440     0.365   0.125        0.5160          0.2155          0.1140   \n",
      "4   0.330     0.255   0.080        0.2050          0.0895          0.0395   \n",
      "\n",
      "   Shell weight  Rings  Sex_F  Sex_I  Sex_M  \n",
      "0         0.150     15    0.0    0.0    1.0  \n",
      "1         0.070      7    0.0    0.0    1.0  \n",
      "2         0.210      9    1.0    0.0    0.0  \n",
      "3         0.155     10    0.0    0.0    1.0  \n",
      "4         0.055      7    0.0    1.0    0.0  \n"
     ]
    }
   ],
   "source": [
    "import pandas as pd\n",
    "from sklearn.preprocessing import OneHotEncoder\n",
    "\n",
    "# Load your dataset (replace 'abalone.csv' with your actual data file)\n",
    "abalone_df = pd.read_csv('./data/abalone.csv')\n",
    "\n",
    "# Extract the 'Sex' column\n",
    "sex_column = abalone_df[['Sex']]\n",
    "\n",
    "# Initialize the OneHotEncoder\n",
    "encoder = OneHotEncoder()\n",
    "\n",
    "# Fit and transform the 'Sex' column\n",
    "sex_encoded = encoder.fit_transform(sex_column).toarray()\n",
    "\n",
    "# Create a DataFrame with the encoded values\n",
    "sex_encoded_df = pd.DataFrame(sex_encoded, columns=encoder.get_feature_names(['Sex']))\n",
    "\n",
    "# Concatenate the encoded DataFrame with the original dataset\n",
    "abalone_encoded_df = pd.concat([abalone_df, sex_encoded_df], axis=1)\n",
    "\n",
    "# Drop the original 'Sex' column\n",
    "abalone_encoded_df.drop(columns=['Sex'], inplace=True)\n",
    "\n",
    "# Now 'abalone_encoded_df' contains the one-hot encoded version of the 'Sex' column\n",
    "print(abalone_encoded_df.head())\n"
   ]
  },
  {
   "cell_type": "code",
   "execution_count": null,
   "metadata": {},
   "outputs": [],
   "source": []
  },
  {
   "cell_type": "code",
   "execution_count": null,
   "metadata": {},
   "outputs": [],
   "source": []
  }
 ],
 "metadata": {
  "kernelspec": {
   "display_name": "base",
   "language": "python",
   "name": "python3"
  },
  "language_info": {
   "codemirror_mode": {
    "name": "ipython",
    "version": 3
   },
   "file_extension": ".py",
   "mimetype": "text/x-python",
   "name": "python",
   "nbconvert_exporter": "python",
   "pygments_lexer": "ipython3",
   "version": "3.9.7"
  }
 },
 "nbformat": 4,
 "nbformat_minor": 2
}
